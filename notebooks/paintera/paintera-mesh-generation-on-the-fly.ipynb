{
 "cells": [
  {
   "cell_type": "markdown",
   "metadata": {},
   "source": [
    "# Paintera\n",
    "\n",
    "In this example, we will demonstrate how to view 3D data in the proof-reading and ground truth annotation tool [Paintera](http://github.com/saalfeldlab/paintera). 3D representations of label data are generated on the fly. This notebook depends on the highly experimental [paynter](https://github.com/saalfeldlab/payntera) Python package:\n",
    "```\n",
    "pip install git+https://github.com/saalfeldlab/payntera\n",
    "```\n",
    "\n",
    "First, create some arbitrary `numpy.ndarray` raw and label data."
   ]
  },
  {
   "cell_type": "code",
   "execution_count": 1,
   "metadata": {},
   "outputs": [],
   "source": [
    "import numpy as np\n",
    "import scipy.ndimage\n",
    "\n",
    "shape      = (80,80,50)\n",
    "x, y, z    = np.indices(shape)\n",
    "fx, fy, fz = 2 * np.pi / np.array(shape) * np.array([10, 1, 3])\n",
    "\n",
    "raw        = (1+np.sin(x * fx)) * (1+np.sin(y * fy)) * (1+x*y/(shape[0]*shape[1]))**2 * (1+np.cos(z * fz)) * ((x+y+z)/np.sum(shape))\n",
    "labels, nb = scipy.ndimage.label(raw > 0.5)"
   ]
  },
  {
   "cell_type": "markdown",
   "metadata": {},
   "source": [
    "Then, convert data into ImgLib2 data structures and add to a Paintera instance"
   ]
  },
  {
   "cell_type": "code",
   "execution_count": 2,
   "metadata": {},
   "outputs": [],
   "source": [
    "# set heap size to reasonable value\n",
    "import jnius_config\n",
    "jnius_config.add_options('-Xmx2g')\n",
    "\n",
    "import os\n",
    "os.environ['PAINTERA_VERSION'] = '0.7.0'\n",
    "\n",
    "import payntera\n",
    "import payntera.jfx\n",
    "\n",
    "# imglyb and jnius must be imported after payntera is imported!\n",
    "import imglyb\n",
    "# jnius must be imported after imglyb is imported!\n",
    "from jnius import autoclass, JavaException\n",
    "\n",
    "payntera.jfx.init_platform()"
   ]
  },
  {
   "cell_type": "code",
   "execution_count": 3,
   "metadata": {},
   "outputs": [],
   "source": [
    "raw_img    = imglyb.to_imglib(raw)\n",
    "labels_img = imglyb.to_imglib(labels)\n",
    "\n",
    "PainteraBaseView = autoclass('org.janelia.saalfeldlab.paintera.PainteraBaseView')\n",
    "viewer           = PainteraBaseView.defaultView()\n",
    "pbv              = viewer.baseView\n",
    "scene, stage     = payntera.jfx.start_stage(viewer.paneWithStatus.getPane())\n",
    "\n",
    "\n",
    "raw_state = pbv.addSingleScaleRawSource(raw_img, [1.0, 1.0, 1.0], [0.0, 0.0, 0.0], np.min(raw), 7, 'blub')\n",
    "try:\n",
    "    state     = pbv.addSingleScaleLabelSource(labels_img, [1.0, 1.0, 1.0], [0.0, 0.0, 0.0], nb+1, 'bla')\n",
    "except JavaException as e:\n",
    "    for st in e.stacktrace:\n",
    "        print(st)\n",
    "    raise e\n",
    "\n",
    "viewer.keyTracker.installInto(scene)\n",
    "scene.addEventFilter(autoclass('javafx.scene.input.MouseEvent').ANY, viewer.mouseTracker)"
   ]
  }
 ],
 "metadata": {
  "kernelspec": {
   "display_name": "Python 3",
   "language": "python",
   "name": "python3"
  },
  "language_info": {
   "codemirror_mode": {
    "name": "ipython",
    "version": 3
   },
   "file_extension": ".py",
   "mimetype": "text/x-python",
   "name": "python",
   "nbconvert_exporter": "python",
   "pygments_lexer": "ipython3",
   "version": "3.7.3"
  }
 },
 "nbformat": 4,
 "nbformat_minor": 2
}
