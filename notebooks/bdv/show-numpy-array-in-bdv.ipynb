{
 "cells": [
  {
   "cell_type": "markdown",
   "metadata": {},
   "source": [
    "# Show 3D NumPy array in [BigDataViewer](https://imagej.net/BigDataViewer)\n",
    "\n",
    "Note that this notebook does not run on OSX! You can copy the contents of the relevant cells into a file and run the file through the `OSXAWTwrapper`:\n",
    "```bash\n",
    "WRAPPER=\"$(python -c 'import os; import site; print( os.path.join(site.getsitepackages()[0], \"imglyb\", \"OSXAWTwrapper.py\") )')\"\n",
    "python $WRAPPER /path/to/file\n",
    "```\n",
    "This example uses, in addition to imglyb, the *h5py* and *wget* packages. You can install them through conda:\n",
    "```bash\n",
    "conda install -c conda-forge h5py python-wget\n",
    "```\n",
    "\n",
    "The data used for this example is available on https://cremi.org."
   ]
  },
  {
   "cell_type": "code",
   "execution_count": 1,
   "metadata": {},
   "outputs": [],
   "source": [
    "import h5py\n",
    "import os\n",
    "import wget\n",
    "\n",
    "def load_or_download(name):\n",
    "    # https://cremi.org\n",
    "    \n",
    "    target = os.path.join(os.path.expanduser('~'), 'Downloads', f'{name}.hdf')\n",
    "    \n",
    "    if not os.path.exists(target):\n",
    "        source = f'https://cremi.org/static/data/{name}.hdf'.replace('+', '%2B')\n",
    "        print(f'Sample {name} not found at {target}. Will download from {source} (this might take a few minutes)')\n",
    "        wget.download(source, target)\n",
    "        \n",
    "    return h5py.File(target, 'r')['volumes/raw'][()]"
   ]
  },
  {
   "cell_type": "code",
   "execution_count": 2,
   "metadata": {},
   "outputs": [
    {
     "data": {
      "text/plain": [
       "(125, 1250, 1250)"
      ]
     },
     "execution_count": 2,
     "metadata": {},
     "output_type": "execute_result"
    }
   ],
   "source": [
    "import imglyb\n",
    "import imglyb.util as util\n",
    "\n",
    "name = 'sample_A_20160501'\n",
    "data = load_or_download(name)\n",
    "img  = imglyb.to_imglib(data)\n",
    "data.shape"
   ]
  },
  {
   "cell_type": "code",
   "execution_count": 3,
   "metadata": {},
   "outputs": [],
   "source": [
    "bdv = imglyb.util.BdvFunctions.show(img, name)"
   ]
  },
  {
   "cell_type": "markdown",
   "metadata": {},
   "source": [
    "To prove that this is an actual shared-memory view into the NumPy array, the following cell overwrites the entire array with zeros and update the BigDataViewer panel. The original data will not be available anymore and needs to be reloaded if desired."
   ]
  },
  {
   "cell_type": "code",
   "execution_count": 4,
   "metadata": {},
   "outputs": [],
   "source": [
    "data[...] = 0\n",
    "bdv.getBdvHandle().getViewerPanel().requestRepaint()"
   ]
  }
 ],
 "metadata": {
  "kernelspec": {
   "display_name": "Python 3",
   "language": "python",
   "name": "python3"
  },
  "language_info": {
   "codemirror_mode": {
    "name": "ipython",
    "version": 3
   },
   "file_extension": ".py",
   "mimetype": "text/x-python",
   "name": "python",
   "nbconvert_exporter": "python",
   "pygments_lexer": "ipython3",
   "version": "3.7.3"
  }
 },
 "nbformat": 4,
 "nbformat_minor": 2
}
