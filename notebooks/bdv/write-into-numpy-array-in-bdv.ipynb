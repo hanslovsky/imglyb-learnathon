{
 "cells": [
  {
   "cell_type": "markdown",
   "metadata": {},
   "source": [
    "# Modify NumPy arrays in BigDataViewer\n",
    "\n",
    "Note that this notebook does not run on OSX! You can copy the contents of the relevant cells into a file and run the file through thw `OSXAWTwrapper`:\n",
    "```bash\n",
    "WRAPPER=\"$(python -c 'import os; import site; print( os.path.join(site.getsitepackages()[0], \"imglyb\", \"OSXAWTwrapper.py\") )')\"\n",
    "python $WRAPPER /path/to/file\n",
    "```"
   ]
  },
  {
   "cell_type": "code",
   "execution_count": 1,
   "metadata": {},
   "outputs": [],
   "source": [
    "import math\n",
    "import numpy as np\n",
    "\n",
    "import imglyb\n",
    "import imglyb.util as util\n",
    "\n",
    "from jnius import autoclass, PythonJavaClass, java_method, cast"
   ]
  },
  {
   "cell_type": "code",
   "execution_count": 2,
   "metadata": {
    "scrolled": true
   },
   "outputs": [
    {
     "name": "stdout",
     "output_type": "stream",
     "text": [
      "(300, 200, 100) [100, 200, 300]\n"
     ]
    },
    {
     "name": "stderr",
     "output_type": "stream",
     "text": [
      "/home/hanslovskyp/miniconda3/envs/scipy-2019-examples/lib/python3.7/site-packages/ipykernel_launcher.py:40: RuntimeWarning: invalid value encountered in true_divide\n"
     ]
    }
   ],
   "source": [
    "RealPoint = autoclass( 'net.imglib2.RealPoint' )\n",
    "\n",
    "class Painter( PythonJavaClass ):\n",
    "    __javainterfaces__ = ['org/scijava/ui/behaviour/DragBehaviour']\n",
    "\n",
    "\n",
    "    def __init__( self, img, mask, viewer, paint_listener = lambda : None ):\n",
    "        super( Painter, self ).__init__()\n",
    "        self.img = img\n",
    "        self.mask = mask\n",
    "        self.radius = int( mask.shape[0] / 2 )\n",
    "        self.viewer = viewer\n",
    "        self.oX = 0\n",
    "        self.oY = 0\n",
    "        self.n_dim = len( img.shape )\n",
    "        self.labelLocation = RealPoint( 3 )\n",
    "        self.lower = np.empty( ( self.n_dim, ), dtype=np.int32 )\n",
    "        self.upper = np.empty( ( self.n_dim, ), dtype=np.int32 )\n",
    "        self.paint_listener = paint_listener\n",
    "\n",
    "    @java_method('(II)V')\n",
    "    def init( self, x, y ):\n",
    "        self._paint( x, y )\n",
    "        self.oX = x\n",
    "        self.oY = y\n",
    "        self.viewer.requestRepaint()\n",
    "\n",
    "    @java_method('(II)V')\n",
    "    def drag( self, x, y ):\n",
    "        self._setCoordinates( self.oX, self.oY )\n",
    "        n_dim = self.labelLocation.numDimensions()\n",
    "        origin = np.array( [ self.labelLocation.getDoublePosition( d ) for d in range( n_dim ) ] )\n",
    "        origin_p = RealPoint( n_dim )\n",
    "        for d, p in enumerate( origin ):\n",
    "            origin_p.setPosition( p, d )\n",
    "        self._setCoordinates( x, y )\n",
    "        target = np.array( [ self.labelLocation.getDoublePosition( d ) for d in range( n_dim ) ] )\n",
    "        diff = target - origin\n",
    "        length = np.linalg.norm( diff )\n",
    "        direction = diff / length\n",
    "        try:\n",
    "            for l in range( 1, math.ceil( length ) ):\n",
    "                for d, dist in enumerate( direction ):\n",
    "                    origin_p.move( dist, d )\n",
    "                self._paint_at_localizable( origin_p )\n",
    "        except Exception as e:\n",
    "            print( e )\n",
    "            raise e\n",
    "\n",
    "        self.oX = x\n",
    "        self.oY = y\n",
    "        self.viewer.requestRepaint()\n",
    "\n",
    "    @java_method('(II)V')\n",
    "    def end( self, x, y ):\n",
    "        self.paint_listener()\n",
    "\n",
    "    def _paint( self, x, y ):\n",
    "        self._setCoordinates( x, y )\n",
    "        self._paint_at_localizable( self.labelLocation )\n",
    "\n",
    "    def _paint_at_localizable( self, labelLocation ):\n",
    "        for d in range( self.n_dim ):\n",
    "            int_pos = int( round( labelLocation.getDoublePosition( d ) ) )\n",
    "            if int_pos < 0 or int_pos >= self.img.shape[ ::-1 ][ d ]:\n",
    "                return\n",
    "            self.lower[ d ] = int_pos - self.radius\n",
    "            self.upper[ d ] = int_pos + self.radius\n",
    "            \n",
    "        self.lower = self.lower[::-1]\n",
    "        self.upper = self.upper[::-1]\n",
    "\n",
    "        img_lower = np.maximum( self.lower, 0 )\n",
    "        img_upper = np.minimum( self.upper, self.img.shape )\n",
    "        \n",
    "        if np.any( img_lower >= img_upper ):\n",
    "            return\n",
    "\n",
    "        mask_lower = np.abs( np.minimum( self.lower, 0 ) ).astype( self.lower.dtype )\n",
    "        mask_upper = np.minimum( mask_lower + ( img_upper - img_lower ), mask_lower + np.array( self.mask.shape ) )\n",
    "        img_selection = tuple( slice(l, u) for l, u in zip( img_lower, img_upper ) )\n",
    "        mask_selection = tuple( slice(l, u) for l, u in zip( mask_lower, mask_upper ) )\n",
    "\n",
    "        # color_channels = tuple( 255 << ( ( idx * 8 ) if np.random.rand() > 0.5 else 0 ) for idx in range( self.n_dim )  )\n",
    "        color_channels = tuple( np.random.randint( 128, 255 ) << ( idx * 8 ) for idx in range( self.n_dim )  )\n",
    "        color = 0\n",
    "        for c in color_channels:\n",
    "            color = color | c\n",
    "        try:\n",
    "            self.img[ img_selection  ][ self.mask[ mask_selection ] ] = color\n",
    "        except Exception as e:\n",
    "            print( \"EXCEPTION\", e )\n",
    "            raise e\n",
    "\n",
    "    def _setCoordinates( self, x, y ):\n",
    "        self.labelLocation.setPosition( x, 0 )\n",
    "        self.labelLocation.setPosition( y, 1 )\n",
    "        self.labelLocation.setPosition( 0, 2 )\n",
    "        self.viewer.displayToGlobalCoordinates( self.labelLocation )\n",
    "\n",
    "initial_img = np.zeros( ( 300, 200, 100 ), dtype=np.uint32 ) + ( 80 | ( 80 << 8 ) )\n",
    "initial_rai = imglyb.to_imglib_argb( initial_img )\n",
    "bdv = util.BdvFunctions.show( initial_rai, 'canvas' )\n",
    "mask = np.ones( ( 10, 10, 10 ) ) == 1\n",
    "painter = Painter( initial_img, mask, bdv.getBdvHandle().getViewerPanel() )\n",
    "\n",
    "print( initial_img.shape, [ initial_rai.dimension( d ) for d in range( initial_rai.numDimensions() ) ] )\n",
    "\n",
    "behaviors = util.Helpers.behaviours()\n",
    "behaviors.install( bdv.getBdvHandle().getTriggerbindings(), \"paint\" )\n",
    "behaviors.behaviour( painter, \"paint\", \"SPACE button1\" )\n"
   ]
  }
 ],
 "metadata": {
  "kernelspec": {
   "display_name": "Python 3",
   "language": "python",
   "name": "python3"
  },
  "language_info": {
   "codemirror_mode": {
    "name": "ipython",
    "version": 3
   },
   "file_extension": ".py",
   "mimetype": "text/x-python",
   "name": "python",
   "nbconvert_exporter": "python",
   "pygments_lexer": "ipython3",
   "version": "3.7.3"
  }
 },
 "nbformat": 4,
 "nbformat_minor": 2
}
