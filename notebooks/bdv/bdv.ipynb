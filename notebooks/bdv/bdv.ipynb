{
 "cells": [
  {
   "cell_type": "markdown",
   "metadata": {},
   "source": [
    "# BigDataViewer in imglyb\n",
    "\n",
    "Note that this notebook does not run on OSX! You can copy the contents of the relevant cells into a file and run the file through thw `OSXAWTwrapper`:\n",
    "```bash\n",
    "WRAPPER=\"$(python -c 'import os; import site; print( os.path.join(site.getsitepackages()[0], \"imglyb\", \"OSXAWTwrapper.py\") )')\"\n",
    "python $WRAPPER /path/to/file\n",
    "```\n",
    "This example uses, in addition to imglyb, the *h5py* and *scikit-image* packages. You can install them through conda:\n",
    "```bash\n",
    "conda install h5py scikit-image\n",
    "```"
   ]
  },
  {
   "cell_type": "code",
   "execution_count": 1,
   "metadata": {},
   "outputs": [],
   "source": [
    "import h5py\n",
    "import math\n",
    "import numpy as np\n",
    "import os\n",
    "import pathlib\n",
    "import skimage.io\n",
    "import subprocess\n",
    "import tempfile\n",
    "import timeit\n",
    "import threading\n",
    "import time"
   ]
  },
  {
   "cell_type": "markdown",
   "metadata": {},
   "source": [
    "## imglyb imports\n",
    "An additional *tmp* directory within the classpath will allow us to compile Java code on the fly if we need fast pixel-wise method calls (see example below). "
   ]
  },
  {
   "cell_type": "code",
   "execution_count": 2,
   "metadata": {},
   "outputs": [],
   "source": [
    "tmp_dir = tempfile.mkdtemp()\n",
    "\n",
    "import jnius_config\n",
    "jnius_config.add_classpath( tmp_dir )\n",
    "\n",
    "import imglyb\n",
    "import imglyb.util as util\n",
    "\n",
    "from jnius import autoclass, PythonJavaClass, java_method, cast"
   ]
  },
  {
   "cell_type": "markdown",
   "metadata": {},
   "source": [
    "## Wait For BDV\n",
    "Python is not aware of any Java threads and -- if not run in interactive mode -- would exit even with an active BDV window open. The `bdv_exit_check` as defined below keeps a Python thread alive while BDV is running and prevents Python from exiting. This is not necessary for interactive sessions (e.g. IPython shell, notebook) but is still added for the purpose of demonstration."
   ]
  },
  {
   "cell_type": "code",
   "execution_count": 3,
   "metadata": {},
   "outputs": [],
   "source": [
    "def bdv_exit_check( viewer, run_on_exit = lambda : print( \"Exited!\" ) ):\n",
    "\n",
    "    check = autoclass( 'net.imglib2.python.BdvWindowClosedCheck' )()\n",
    "    frame = cast( 'javax.swing.JFrame', autoclass( 'javax.swing.SwingUtilities' ).getWindowAncestor( viewer ) )\n",
    "    frame.addWindowListener( check )\n",
    "\n",
    "    def sleeper():\n",
    "        while check.isOpen():\n",
    "            time.sleep( 0.1 )\n",
    "        run_on_exit()\n",
    "\n",
    "    t = threading.Thread( target=sleeper )\n",
    "    t.start()"
   ]
  },
  {
   "cell_type": "markdown",
   "metadata": {},
   "source": [
    "## Multi-Channel vs ARGB"
   ]
  },
  {
   "cell_type": "code",
   "execution_count": 4,
   "metadata": {},
   "outputs": [
    {
     "name": "stdout",
     "output_type": "stream",
     "text": [
      "Exited!\n"
     ]
    }
   ],
   "source": [
    "url = 'http://www.nerdtests.com/mq/testimages/167138_4f49b66c0cb4a87cc906.jpg'\n",
    "# url = '/home/phil/Pictures/10pm.png'\n",
    "arr = skimage.io.imread( url )\n",
    "rai = imglyb.to_imglib( arr )\n",
    "bdv = util.BdvFunctions.show( rai, 'argb' )\n",
    "bdv_exit_check( bdv.getBdvHandle().getViewerPanel() )"
   ]
  },
  {
   "cell_type": "code",
   "execution_count": 5,
   "metadata": {},
   "outputs": [
    {
     "name": "stdout",
     "output_type": "stream",
     "text": [
      "Exited!\n"
     ]
    }
   ],
   "source": [
    "rai = imglyb.to_imglib( np.transpose( arr, ( 2, 0, 1 ) ) )\n",
    "bdv = util.BdvFunctions.show( rai, 'argb', util.BdvOptions.options().is2D() )\n",
    "bdv_exit_check( bdv.getBdvHandle(). getViewerPanel() )"
   ]
  },
  {
   "cell_type": "markdown",
   "metadata": {},
   "source": [
    "## Pure Python Converter"
   ]
  },
  {
   "cell_type": "code",
   "execution_count": 6,
   "metadata": {
    "scrolled": false
   },
   "outputs": [
    {
     "name": "stdout",
     "output_type": "stream",
     "text": [
      "Runtime for converting every pixel: 13.750267378998615\n",
      "Image size: (282, 330, 3)\n"
     ]
    }
   ],
   "source": [
    "ARGBType = autoclass( 'net.imglib2.type.numeric.ARGBType' )\n",
    "\n",
    "class CompositeARGBConverter( PythonJavaClass ):\n",
    "    \n",
    "    __javainterfaces__ = [ 'net.imglib2.converter.Converter' ]\n",
    "    \n",
    "    def __init__( self ):\n",
    "        super( CompositeARGBConverter, self ).__init__()\n",
    "        \n",
    "    @java_method( '(Ljava/lang/Object;Ljava/lang/Object;)V' )\n",
    "    def convert( self, source, target ):\n",
    "        target.set( ARGBType.rgba( \n",
    "            source.get( 0 ).getInteger(), \n",
    "            source.get( 1 ).getInteger(), \n",
    "            source.get( 2 ).getInteger(),\n",
    "            255 ) )\n",
    "        \n",
    "       \n",
    "Converters = autoclass( 'net.imglib2.converter.Converters' )\n",
    "converter = CompositeARGBConverter()\n",
    "composite = util.Views.collapseReal( rai )\n",
    "view = Converters.convert( cast( 'net.imglib2.RandomAccessibleInterval', composite ), converter, ARGBType() )\n",
    "img = autoclass( 'net.imglib2.img.array.ArrayImgs' ).argbs( view.dimension( 0 ), view.dimension( 1 ) )\n",
    "\n",
    "start = timeit.default_timer()\n",
    "util.Helpers.burnIn( view, img )\n",
    "stop = timeit.default_timer()\n",
    "print( 'Runtime for converting every pixel:', stop - start )\n",
    "print( 'Image size:', arr.shape )"
   ]
  },
  {
   "cell_type": "markdown",
   "metadata": {},
   "source": [
    "## Pure Java Converter"
   ]
  },
  {
   "cell_type": "code",
   "execution_count": 7,
   "metadata": {},
   "outputs": [
    {
     "name": "stdout",
     "output_type": "stream",
     "text": [
      "/tmp/tmp0e_jt1px\n"
     ]
    }
   ],
   "source": [
    "converter_code = \"\"\"\n",
    "import net.imglib2.converter.Converter;\n",
    "import net.imglib2.type.numeric.ARGBType;\n",
    "import net.imglib2.type.numeric.integer.UnsignedByteType;\n",
    "import net.imglib2.view.composite.Composite;\n",
    "\n",
    "public class CompositeARGBTypeConverter< C extends Composite< UnsignedByteType > > implements Converter< C, ARGBType > {\n",
    "    \n",
    "    public void convert( C source, ARGBType target ) {\n",
    "        target.set( ARGBType.rgba( source.get( 0 ).get(), source.get( 1 ).get(), source.get( 2 ).get(), 255 ) );\n",
    "    }\n",
    "    \n",
    "}\n",
    "\"\"\"\n",
    "\n",
    "fp = pathlib.Path( tmp_dir ) / 'CompositeARGBTypeConverter.java'\n",
    "print( tmp_dir )\n",
    "with open( fp, 'w' ) as f:\n",
    "    f.write( converter_code )\n",
    "\n",
    "javac = pathlib.Path( os.environ[ 'JAVA_HOME' ] ) / 'bin' / 'javac'\n",
    "proc = subprocess.run( \n",
    "    [ javac, '-cp', jnius_config.split_char.join( jnius_config.get_classpath() ), fp ],\n",
    "    stdout=subprocess.PIPE,\n",
    "    stderr=subprocess.PIPE)\n",
    "if proc.returncode != 0:\n",
    "    print ( proc.stderr )"
   ]
  },
  {
   "cell_type": "code",
   "execution_count": 8,
   "metadata": {},
   "outputs": [
    {
     "name": "stdout",
     "output_type": "stream",
     "text": [
      "Runtime for converting every pixel: 0.04088612399937119\n",
      "Image size: (282, 330, 3)\n"
     ]
    }
   ],
   "source": [
    "Converters = autoclass( 'net.imglib2.converter.Converters' )\n",
    "converter = autoclass( 'CompositeARGBTypeConverter' )()\n",
    "composite = util.Views.collapseReal( rai )\n",
    "view = Converters.convert( cast( 'net.imglib2.RandomAccessibleInterval', composite ), converter, ARGBType() )\n",
    "img = autoclass( 'net.imglib2.img.array.ArrayImgs' ).argbs( view.dimension( 0 ), view.dimension( 1 ) )\n",
    "\n",
    "start = timeit.default_timer()\n",
    "util.Helpers.burnIn( view, img )\n",
    "stop = timeit.default_timer()\n",
    "print( 'Runtime for converting every pixel:', stop - start )\n",
    "print( 'Image size:', arr.shape )"
   ]
  },
  {
   "cell_type": "code",
   "execution_count": 9,
   "metadata": {},
   "outputs": [
    {
     "name": "stdout",
     "output_type": "stream",
     "text": [
      "Different exit message!\n"
     ]
    }
   ],
   "source": [
    "bdv = util.BdvFunctions.show( view, 'argb', util.BdvOptions.options().is2D() )\n",
    "bdv_exit_check( bdv.getBdvHandle().getViewerPanel(), lambda : print( 'Different exit message!' ) )"
   ]
  },
  {
   "cell_type": "markdown",
   "metadata": {},
   "source": [
    "## BDV OverlayRenderer\n",
    "`imglyb.util.GenericOverlayRenderer` implements `net.imglib2.ui.OverlayRenderer`. The `GenericOverlayRenderer` constructor accepts two optional arguments, `draw_overlays` and `set_canvas_size`, that implement the respective methods in the `OverlayRenderer` interface. If not specified, these methods will just return without any action. It is also possible to pass stateful functions (see example below)."
   ]
  },
  {
   "cell_type": "code",
   "execution_count": 10,
   "metadata": {},
   "outputs": [],
   "source": [
    "# stateless overlay renderer\n",
    "hello_world_color= autoclass( 'java.awt.Color' ).WHITE\n",
    "def hello_world( g ):\n",
    "    g2d = cast( 'java.awt.Graphics2D', g )\n",
    "    g2d.setColor( hello_world_color )\n",
    "    g2d.drawString(\"Hello world!\", 30, 130 )\n",
    "hello_world_overlay = util.GenericOverlayRenderer( hello_world )\n",
    "\n",
    "# stateful overlay renderer with class that holds state\n",
    "class RectangleOverlayRenderer:\n",
    "    def __init__( self ):\n",
    "        self.w = 0\n",
    "        self.h = 0\n",
    "        self.color= autoclass('java.awt.Color').WHITE\n",
    "        self.stroke = autoclass('java.awt.BasicStroke')( 10 )\n",
    "\n",
    "    def draw_overlays( self, g ):\n",
    "        g2d = cast('java.awt.Graphics2D', g)\n",
    "        g2d.setColor( self.color )\n",
    "        g2d.setStroke( self.stroke )\n",
    "        g2d.drawRect( self.w // 2 - self.w // 6, self.h // 2 - self.h // 6, self.w // 3, self.h // 3 )\n",
    "\n",
    "    def set_canvas_size( self, width, height ):\n",
    "        print( \"Setting canvas size\", width, height )\n",
    "        self.w = width\n",
    "        self.h = height\n",
    "    \n",
    "rectangle_state = RectangleOverlayRenderer()\n",
    "rectangle_renderer = util.GenericOverlayRenderer( lambda g : rectangle_state.draw_overlays( g ), lambda w, h : rectangle_state.set_canvas_size( w, h ) )"
   ]
  },
  {
   "cell_type": "markdown",
   "metadata": {},
   "source": [
    "## MouseMotionListener\n",
    "In analogy to `GenericOverlayRenderer`, `imglyb.util.GenericMouseMotionListener` implements `java.awt.event.MouseMotionListener` with functions `mouse_dragged` and `mouse_moved` that implement the according interface methods and can be passed to the `GenericMouseMotionListener` constructor (default to no-op)."
   ]
  },
  {
   "cell_type": "code",
   "execution_count": 11,
   "metadata": {},
   "outputs": [],
   "source": [
    "coordinate_printer = util.GenericMouseMotionListener(\n",
    "        lambda e : print( \"mouse dragged\", e.getX(), e.getY() ),\n",
    "        lambda e : print( \"mouse moved\", e.getX(), e.getY() )\n",
    "        )"
   ]
  },
  {
   "cell_type": "code",
   "execution_count": 12,
   "metadata": {},
   "outputs": [
    {
     "name": "stdout",
     "output_type": "stream",
     "text": [
      "Setting canvas size 800 579\n",
      "mouse moved 684 574\n",
      "mouse moved 646 558\n",
      "mouse moved 610 537\n",
      "mouse moved 577 522\n",
      "mouse moved 550 506\n",
      "mouse moved 516 491\n",
      "mouse moved 484 480\n",
      "mouse moved 433 464\n",
      "mouse moved 422 462\n",
      "mouse moved 414 457\n",
      "mouse moved 405 453\n",
      "mouse moved 392 446\n",
      "mouse moved 390 444\n",
      "mouse moved 384 439\n",
      "mouse moved 380 435\n",
      "mouse moved 372 428\n",
      "mouse moved 363 420\n",
      "mouse moved 353 412\n",
      "mouse moved 342 405\n",
      "mouse moved 335 397\n",
      "mouse moved 330 391\n",
      "mouse moved 325 382\n",
      "mouse moved 321 376\n",
      "mouse moved 320 368\n",
      "mouse moved 320 360\n",
      "mouse moved 320 350\n",
      "mouse moved 320 338\n",
      "mouse moved 320 326\n",
      "mouse moved 320 313\n",
      "mouse moved 320 300\n",
      "mouse moved 320 283\n",
      "mouse moved 320 272\n",
      "mouse moved 320 261\n",
      "mouse moved 317 247\n",
      "mouse moved 317 241\n",
      "mouse moved 317 236\n",
      "mouse moved 317 226\n",
      "mouse moved 317 224\n",
      "mouse moved 320 216\n",
      "mouse moved 330 213\n",
      "mouse moved 349 207\n",
      "mouse moved 373 204\n",
      "mouse moved 401 199\n",
      "mouse moved 434 196\n",
      "mouse moved 467 196\n",
      "mouse moved 492 194\n",
      "mouse moved 510 191\n",
      "mouse moved 534 191\n",
      "mouse moved 556 191\n",
      "mouse moved 567 195\n",
      "mouse moved 576 197\n",
      "mouse moved 586 199\n",
      "mouse moved 595 202\n",
      "mouse moved 602 207\n",
      "mouse moved 615 212\n",
      "mouse moved 621 215\n",
      "mouse moved 639 222\n",
      "mouse moved 650 225\n",
      "mouse moved 661 225\n",
      "mouse moved 669 225\n",
      "mouse moved 674 225\n",
      "mouse moved 674 224\n",
      "mouse moved 674 221\n",
      "mouse moved 675 215\n",
      "mouse moved 675 209\n",
      "mouse moved 674 203\n",
      "mouse moved 669 197\n",
      "mouse moved 664 190\n",
      "mouse moved 661 184\n",
      "mouse moved 658 178\n",
      "mouse moved 657 172\n",
      "mouse moved 653 159\n",
      "mouse moved 653 155\n",
      "mouse moved 653 154\n",
      "mouse moved 656 111\n",
      "mouse moved 656 82\n",
      "mouse moved 661 49\n",
      "mouse moved 661 20\n"
     ]
    }
   ],
   "source": [
    "random = np.random.randint( 2**32, size=(300,200,100), dtype=np.uint32 )\n",
    "bdv = util.BdvFunctions.show( imglyb.to_imglib_argb( random ), 'random' )\n",
    "viewer = bdv.getBdvHandle().getViewerPanel()\n",
    "viewer.getDisplay().addMouseMotionListener( coordinate_printer )\n",
    "viewer.getDisplay().addOverlayRenderer( hello_world_overlay )\n",
    "viewer.getDisplay().addOverlayRenderer( rectangle_renderer )"
   ]
  },
  {
   "cell_type": "code",
   "execution_count": 13,
   "metadata": {
    "scrolled": true
   },
   "outputs": [
    {
     "name": "stdout",
     "output_type": "stream",
     "text": [
      "(300, 200, 100) [100, 200, 300]\n",
      "Exited!\n"
     ]
    }
   ],
   "source": [
    "RealPoint = autoclass( 'net.imglib2.RealPoint' )\n",
    "\n",
    "class Painter( PythonJavaClass ):\n",
    "    __javainterfaces__ = ['org/scijava/ui/behaviour/DragBehaviour']\n",
    "\n",
    "\n",
    "    def __init__( self, img, mask, viewer, paint_listener = lambda : None ):\n",
    "        super( Painter, self ).__init__()\n",
    "        self.img = img\n",
    "        self.mask = mask\n",
    "        self.radius = int( mask.shape[0] / 2 )\n",
    "        self.viewer = viewer\n",
    "        self.oX = 0\n",
    "        self.oY = 0\n",
    "        self.n_dim = len( img.shape )\n",
    "        self.labelLocation = RealPoint( 3 )\n",
    "        self.lower = np.empty( ( self.n_dim, ), dtype=np.int32 )\n",
    "        self.upper = np.empty( ( self.n_dim, ), dtype=np.int32 )\n",
    "        self.paint_listener = paint_listener\n",
    "\n",
    "    @java_method('(II)V')\n",
    "    def init( self, x, y ):\n",
    "        self._paint( x, y )\n",
    "        self.oX = x\n",
    "        self.oY = y\n",
    "        self.viewer.requestRepaint()\n",
    "\n",
    "    @java_method('(II)V')\n",
    "    def drag( self, x, y ):\n",
    "        self._setCoordinates( self.oX, self.oY )\n",
    "        n_dim = self.labelLocation.numDimensions()\n",
    "        origin = np.array( [ self.labelLocation.getDoublePosition( d ) for d in range( n_dim ) ] )\n",
    "        origin_p = RealPoint( n_dim )\n",
    "        for d, p in enumerate( origin ):\n",
    "            origin_p.setPosition( p, d )\n",
    "        self._setCoordinates( x, y )\n",
    "        target = np.array( [ self.labelLocation.getDoublePosition( d ) for d in range( n_dim ) ] )\n",
    "        diff = target - origin\n",
    "        length = np.linalg.norm( diff )\n",
    "        direction = diff / length\n",
    "        try:\n",
    "            for l in range( 1, math.ceil( length ) ):\n",
    "                for d, dist in enumerate( direction ):\n",
    "                    origin_p.move( dist, d )\n",
    "                self._paint_at_localizable( origin_p )\n",
    "        except Exception as e:\n",
    "            print( e )\n",
    "            raise e\n",
    "\n",
    "        self.oX = x\n",
    "        self.oY = y\n",
    "        self.viewer.requestRepaint()\n",
    "\n",
    "    @java_method('(II)V')\n",
    "    def end( self, x, y ):\n",
    "        self.paint_listener()\n",
    "\n",
    "    def _paint( self, x, y ):\n",
    "        self._setCoordinates( x, y )\n",
    "        self._paint_at_localizable( self.labelLocation )\n",
    "\n",
    "    def _paint_at_localizable( self, labelLocation ):\n",
    "        for d in range( self.n_dim ):\n",
    "            int_pos = int( round( labelLocation.getDoublePosition( d ) ) )\n",
    "            if int_pos < 0 or int_pos >= self.img.shape[ ::-1 ][ d ]:\n",
    "                return\n",
    "            self.lower[ d ] = int_pos - self.radius\n",
    "            self.upper[ d ] = int_pos + self.radius\n",
    "            \n",
    "        self.lower = self.lower[::-1]\n",
    "        self.upper = self.upper[::-1]\n",
    "\n",
    "        img_lower = np.maximum( self.lower, 0 )\n",
    "        img_upper = np.minimum( self.upper, self.img.shape )\n",
    "        \n",
    "        if np.any( img_lower >= img_upper ):\n",
    "            return\n",
    "\n",
    "        mask_lower = np.abs( np.minimum( self.lower, 0 ) ).astype( self.lower.dtype )\n",
    "        mask_upper = np.minimum( mask_lower + ( img_upper - img_lower ), mask_lower + np.array( self.mask.shape ) )\n",
    "        img_selection = tuple( slice(l, u) for l, u in zip( img_lower, img_upper ) )\n",
    "        mask_selection = tuple( slice(l, u) for l, u in zip( mask_lower, mask_upper ) )\n",
    "\n",
    "        # color_channels = tuple( 255 << ( ( idx * 8 ) if np.random.rand() > 0.5 else 0 ) for idx in range( self.n_dim )  )\n",
    "        color_channels = tuple( np.random.randint( 128, 255 ) << ( idx * 8 ) for idx in range( self.n_dim )  )\n",
    "        color = 0\n",
    "        for c in color_channels:\n",
    "            color = color | c\n",
    "        try:\n",
    "            self.img[ img_selection  ][ self.mask[ mask_selection ] ] = color\n",
    "        except Exception as e:\n",
    "            print( \"EXCEPTION\", e )\n",
    "            raise e\n",
    "\n",
    "    def _setCoordinates( self, x, y ):\n",
    "        self.labelLocation.setPosition( x, 0 )\n",
    "        self.labelLocation.setPosition( y, 1 )\n",
    "        self.labelLocation.setPosition( 0, 2 )\n",
    "        self.viewer.displayToGlobalCoordinates( self.labelLocation )\n",
    "\n",
    "initial_img = np.zeros( ( 300, 200, 100 ), dtype=np.uint32 ) + ( 80 | ( 80 << 8 ) )\n",
    "initial_rai = imglyb.to_imglib_argb( initial_img )\n",
    "bdv = util.BdvFunctions.show( initial_rai, 'canvas' )\n",
    "mask = np.ones( ( 10, 10, 10 ) ) == 1\n",
    "painter = Painter( initial_img, mask, bdv.getBdvHandle().getViewerPanel() )\n",
    "\n",
    "print( initial_img.shape, [ initial_rai.dimension( d ) for d in range( initial_rai.numDimensions() ) ] )\n",
    "\n",
    "behaviors = util.Helpers.behaviours()\n",
    "behaviors.install( bdv.getBdvHandle().getTriggerbindings(), \"paint\" )\n",
    "behaviors.behaviour( painter, \"paint\", \"SPACE button1\" )\n",
    "bdv_exit_check( bdv.getBdvHandle().getViewerPanel() )\n"
   ]
  },
  {
   "cell_type": "code",
   "execution_count": 20,
   "metadata": {},
   "outputs": [
    {
     "name": "stdout",
     "output_type": "stream",
     "text": [
      "Exited!\n"
     ]
    }
   ],
   "source": [
    "import h5py\n",
    "import os\n",
    "import pathlib\n",
    "import urllib.request\n",
    "import shutil\n",
    "\n",
    "# data from https://emdatasets.com/category/emd-examples/\n",
    "# Hexagonal Silicon Nitride\n",
    "# url = 'https://cremi.org/static/data/sample_A%2B_20160601.hdf'\n",
    "# path = pathlib.Path( '/tmp/sample_A+.h5' )\n",
    "# if not path.is_file():\n",
    "#     with urllib.request.urlopen( url ) as response, open( path, 'wb' ) as out_file:\n",
    "#         shutil.copyfileobj( response, out_file )\n",
    "#     print( 'successfully downloaded file!' )\n",
    "    \n",
    "path = os.path.expanduser('~/Downloads/sample_A_padded_20160501.hdf')\n",
    "\n",
    "with h5py.File( path, 'r' ) as f:\n",
    "    data = f['volumes/raw'].value\n",
    "rai = imglyb.to_imglib( data )\n",
    "bdv = util.BdvFunctions.show( rai, 'rai', util.BdvOptions.options().sourceTransform( 4, 4, 40 ) )\n",
    "bdv_exit_check( bdv.getBdvHandle().getViewerPanel() )"
   ]
  }
 ],
 "metadata": {
  "kernelspec": {
   "display_name": "Python 3",
   "language": "python",
   "name": "python3"
  },
  "language_info": {
   "codemirror_mode": {
    "name": "ipython",
    "version": 3
   },
   "file_extension": ".py",
   "mimetype": "text/x-python",
   "name": "python",
   "nbconvert_exporter": "python",
   "pygments_lexer": "ipython3",
   "version": "3.7.3"
  }
 },
 "nbformat": 4,
 "nbformat_minor": 2
}
